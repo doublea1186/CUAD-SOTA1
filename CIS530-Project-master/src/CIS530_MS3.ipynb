{
  "cells": [
    {
      "cell_type": "code",
      "execution_count": null,
      "metadata": {
        "colab": {
          "base_uri": "https://localhost:8080/"
        },
        "id": "rXbk1dg6QB8q",
        "outputId": "21e0e6c1-de4a-4440-f572-541a204a1668"
      },
      "outputs": [
        {
          "output_type": "stream",
          "name": "stdout",
          "text": [
            "Mounted at /content/drive\n",
            "/content/drive/MyDrive/CIS530\n"
          ]
        }
      ],
      "source": [
        "from google.colab import drive\n",
        "import os\n",
        "drive.mount('/content/drive')\n",
        "%cd './drive/MyDrive/CIS530'"
      ]
    },
    {
      "cell_type": "code",
      "execution_count": null,
      "metadata": {
        "id": "yn6pMnq1i9Qh"
      },
      "outputs": [],
      "source": [
        "import numpy as np\n",
        "import random\n",
        "import pandas as pd\n",
        "from matplotlib import pyplot as plt\n",
        "plt.style.use('dark_background')\n",
        "from keras.preprocessing.text import Tokenizer\n",
        "from keras.preprocessing.sequence import pad_sequences\n",
        "from sklearn.model_selection import train_test_split\n",
        "from tensorflow.keras.utils import to_categorical\n",
        "from keras.models import Sequential\n",
        "from keras.layers import Dense, Dropout, Embedding, LSTM, GlobalMaxPooling1D, SpatialDropout1D, Flatten, Bidirectional\n",
        "import tensorflow as tf \n",
        "import torch"
      ]
    },
    {
      "cell_type": "code",
      "execution_count": null,
      "metadata": {
        "id": "oPWelLlIUuZS"
      },
      "outputs": [],
      "source": [
        "df = pd.read_csv('y_pred_new.csv')\n",
        "rng = np.random.RandomState()\n",
        "\n",
        "#80%/10%/10% - training, dev, test\n",
        "# df_train = df.sample(frac=0.8, random_state=rng)\n",
        "# rest = df.loc[~df.index.isin(df_train.index)]\n",
        "# df_dev = rest.sample(frac=0.5, random_state=rng)\n",
        "# df_test = rest.loc[~rest.index.isin(df_dev.index)]\n",
        "\n",
        "df_train = df.sample(frac=0.9, random_state=rng) #dev set on model\n",
        "df_test = df.loc[~df.index.isin(df_train.index)]\n",
        "# df_dev = rest.sample(frac=0.5, random_state=rng)\n",
        "# df_test = rest.loc[~rest.index.isin(df_dev.index)]"
      ]
    },
    {
      "cell_type": "code",
      "execution_count": null,
      "metadata": {
        "colab": {
          "base_uri": "https://localhost:8080/",
          "height": 424
        },
        "id": "FdckNUz-hB_J",
        "outputId": "9772d85b-92d9-4f79-fc7d-562da3c2b02f"
      },
      "outputs": [
        {
          "output_type": "execute_result",
          "data": {
            "text/html": [
              "<div>\n",
              "<style scoped>\n",
              "    .dataframe tbody tr th:only-of-type {\n",
              "        vertical-align: middle;\n",
              "    }\n",
              "\n",
              "    .dataframe tbody tr th {\n",
              "        vertical-align: top;\n",
              "    }\n",
              "\n",
              "    .dataframe thead th {\n",
              "        text-align: right;\n",
              "    }\n",
              "</style>\n",
              "<table border=\"1\" class=\"dataframe\">\n",
              "  <thead>\n",
              "    <tr style=\"text-align: right;\">\n",
              "      <th></th>\n",
              "      <th>Text</th>\n",
              "      <th>Output</th>\n",
              "    </tr>\n",
              "  </thead>\n",
              "  <tbody>\n",
              "    <tr>\n",
              "      <th>0</th>\n",
              "      <td>Most Favored Nation</td>\n",
              "      <td>0</td>\n",
              "    </tr>\n",
              "    <tr>\n",
              "      <th>1</th>\n",
              "      <td>Non-Compete</td>\n",
              "      <td>0</td>\n",
              "    </tr>\n",
              "    <tr>\n",
              "      <th>2</th>\n",
              "      <td>Exclusivity The  Distributor  shall  not order...</td>\n",
              "      <td>1</td>\n",
              "    </tr>\n",
              "    <tr>\n",
              "      <th>3</th>\n",
              "      <td>No-Solicit of Customers Distributor further ag...</td>\n",
              "      <td>0</td>\n",
              "    </tr>\n",
              "    <tr>\n",
              "      <th>4</th>\n",
              "      <td>Competitive Restriction Exception</td>\n",
              "      <td>0</td>\n",
              "    </tr>\n",
              "    <tr>\n",
              "      <th>...</th>\n",
              "      <td>...</td>\n",
              "      <td>...</td>\n",
              "    </tr>\n",
              "    <tr>\n",
              "      <th>16495</th>\n",
              "      <td>Liquidated Damages</td>\n",
              "      <td>0</td>\n",
              "    </tr>\n",
              "    <tr>\n",
              "      <th>16496</th>\n",
              "      <td>Warranty Duration</td>\n",
              "      <td>1</td>\n",
              "    </tr>\n",
              "    <tr>\n",
              "      <th>16497</th>\n",
              "      <td>Insurance</td>\n",
              "      <td>1</td>\n",
              "    </tr>\n",
              "    <tr>\n",
              "      <th>16498</th>\n",
              "      <td>Covenant Not to Sue Except as provided in Sect...</td>\n",
              "      <td>0</td>\n",
              "    </tr>\n",
              "    <tr>\n",
              "      <th>16499</th>\n",
              "      <td>Third Party Beneficiary</td>\n",
              "      <td>0</td>\n",
              "    </tr>\n",
              "  </tbody>\n",
              "</table>\n",
              "<p>16500 rows × 2 columns</p>\n",
              "</div>"
            ],
            "text/plain": [
              "                                                    Text  Output\n",
              "0                                   Most Favored Nation        0\n",
              "1                                           Non-Compete        0\n",
              "2      Exclusivity The  Distributor  shall  not order...       1\n",
              "3      No-Solicit of Customers Distributor further ag...       0\n",
              "4                     Competitive Restriction Exception        0\n",
              "...                                                  ...     ...\n",
              "16495                                Liquidated Damages        0\n",
              "16496                                 Warranty Duration        1\n",
              "16497                                         Insurance        1\n",
              "16498  Covenant Not to Sue Except as provided in Sect...       0\n",
              "16499                           Third Party Beneficiary        0\n",
              "\n",
              "[16500 rows x 2 columns]"
            ]
          },
          "metadata": {},
          "execution_count": 5
        }
      ],
      "source": [
        "df.option(\"truncate\", \"false\")"
      ]
    },
    {
      "cell_type": "code",
      "execution_count": null,
      "metadata": {
        "colab": {
          "base_uri": "https://localhost:8080/",
          "height": 424
        },
        "id": "_yGT8stZdQcx",
        "outputId": "b75b1859-070d-4e45-cac1-137c569155bd"
      },
      "outputs": [
        {
          "output_type": "execute_result",
          "data": {
            "text/html": [
              "<div>\n",
              "<style scoped>\n",
              "    .dataframe tbody tr th:only-of-type {\n",
              "        vertical-align: middle;\n",
              "    }\n",
              "\n",
              "    .dataframe tbody tr th {\n",
              "        vertical-align: top;\n",
              "    }\n",
              "\n",
              "    .dataframe thead th {\n",
              "        text-align: right;\n",
              "    }\n",
              "</style>\n",
              "<table border=\"1\" class=\"dataframe\">\n",
              "  <thead>\n",
              "    <tr style=\"text-align: right;\">\n",
              "      <th></th>\n",
              "      <th>Text</th>\n",
              "      <th>Output</th>\n",
              "    </tr>\n",
              "  </thead>\n",
              "  <tbody>\n",
              "    <tr>\n",
              "      <th>1241</th>\n",
              "      <td>Affiliate IP License-Licensee</td>\n",
              "      <td>0</td>\n",
              "    </tr>\n",
              "    <tr>\n",
              "      <th>2474</th>\n",
              "      <td>Third Party Beneficiary</td>\n",
              "      <td>0</td>\n",
              "    </tr>\n",
              "    <tr>\n",
              "      <th>8753</th>\n",
              "      <td>Right of First Refusal, Offer or Negotiation (...</td>\n",
              "      <td>0</td>\n",
              "    </tr>\n",
              "    <tr>\n",
              "      <th>11535</th>\n",
              "      <td>Non-Transferable License</td>\n",
              "      <td>0</td>\n",
              "    </tr>\n",
              "    <tr>\n",
              "      <th>12109</th>\n",
              "      <td>Covenant Not to Sue DISTRIBUTOR acknowledges P...</td>\n",
              "      <td>0</td>\n",
              "    </tr>\n",
              "    <tr>\n",
              "      <th>...</th>\n",
              "      <td>...</td>\n",
              "      <td>...</td>\n",
              "    </tr>\n",
              "    <tr>\n",
              "      <th>4159</th>\n",
              "      <td>Non-Compete During the term of this Agreement,...</td>\n",
              "      <td>0</td>\n",
              "    </tr>\n",
              "    <tr>\n",
              "      <th>6827</th>\n",
              "      <td>Warranty Duration</td>\n",
              "      <td>0</td>\n",
              "    </tr>\n",
              "    <tr>\n",
              "      <th>7346</th>\n",
              "      <td>Affiliate IP License-Licensee</td>\n",
              "      <td>0</td>\n",
              "    </tr>\n",
              "    <tr>\n",
              "      <th>3844</th>\n",
              "      <td>Joint IP Ownership</td>\n",
              "      <td>0</td>\n",
              "    </tr>\n",
              "    <tr>\n",
              "      <th>3884</th>\n",
              "      <td>Source Code Escrow</td>\n",
              "      <td>0</td>\n",
              "    </tr>\n",
              "  </tbody>\n",
              "</table>\n",
              "<p>14850 rows × 2 columns</p>\n",
              "</div>"
            ],
            "text/plain": [
              "                                                    Text  Output\n",
              "1241                      Affiliate IP License-Licensee        0\n",
              "2474                            Third Party Beneficiary        0\n",
              "8753   Right of First Refusal, Offer or Negotiation (...       0\n",
              "11535                          Non-Transferable License        0\n",
              "12109  Covenant Not to Sue DISTRIBUTOR acknowledges P...       0\n",
              "...                                                  ...     ...\n",
              "4159   Non-Compete During the term of this Agreement,...       0\n",
              "6827                                  Warranty Duration        0\n",
              "7346                      Affiliate IP License-Licensee        0\n",
              "3844                                 Joint IP Ownership        0\n",
              "3884                                 Source Code Escrow        0\n",
              "\n",
              "[14850 rows x 2 columns]"
            ]
          },
          "metadata": {},
          "execution_count": 6
        }
      ],
      "source": [
        "df_train"
      ]
    },
    {
      "cell_type": "code",
      "execution_count": null,
      "metadata": {
        "id": "hO2_BwKTdU4X"
      },
      "outputs": [],
      "source": [
        "#df_dev"
      ]
    },
    {
      "cell_type": "code",
      "execution_count": null,
      "metadata": {
        "colab": {
          "base_uri": "https://localhost:8080/",
          "height": 424
        },
        "id": "zzwUm82QhDhn",
        "outputId": "0df80cef-497e-4199-dfea-18854975b3b9"
      },
      "outputs": [
        {
          "output_type": "execute_result",
          "data": {
            "text/html": [
              "<div>\n",
              "<style scoped>\n",
              "    .dataframe tbody tr th:only-of-type {\n",
              "        vertical-align: middle;\n",
              "    }\n",
              "\n",
              "    .dataframe tbody tr th {\n",
              "        vertical-align: top;\n",
              "    }\n",
              "\n",
              "    .dataframe thead th {\n",
              "        text-align: right;\n",
              "    }\n",
              "</style>\n",
              "<table border=\"1\" class=\"dataframe\">\n",
              "  <thead>\n",
              "    <tr style=\"text-align: right;\">\n",
              "      <th></th>\n",
              "      <th>Text</th>\n",
              "      <th>Output</th>\n",
              "    </tr>\n",
              "  </thead>\n",
              "  <tbody>\n",
              "    <tr>\n",
              "      <th>0</th>\n",
              "      <td>Most Favored Nation</td>\n",
              "      <td>0</td>\n",
              "    </tr>\n",
              "    <tr>\n",
              "      <th>26</th>\n",
              "      <td>Uncapped Liability</td>\n",
              "      <td>1</td>\n",
              "    </tr>\n",
              "    <tr>\n",
              "      <th>27</th>\n",
              "      <td>Cap on Liability</td>\n",
              "      <td>1</td>\n",
              "    </tr>\n",
              "    <tr>\n",
              "      <th>32</th>\n",
              "      <td>Third Party Beneficiary</td>\n",
              "      <td>0</td>\n",
              "    </tr>\n",
              "    <tr>\n",
              "      <th>38</th>\n",
              "      <td>No-Solicit of Employees</td>\n",
              "      <td>0</td>\n",
              "    </tr>\n",
              "    <tr>\n",
              "      <th>...</th>\n",
              "      <td>...</td>\n",
              "      <td>...</td>\n",
              "    </tr>\n",
              "    <tr>\n",
              "      <th>16430</th>\n",
              "      <td>Warranty Duration</td>\n",
              "      <td>0</td>\n",
              "    </tr>\n",
              "    <tr>\n",
              "      <th>16431</th>\n",
              "      <td>Insurance</td>\n",
              "      <td>0</td>\n",
              "    </tr>\n",
              "    <tr>\n",
              "      <th>16460</th>\n",
              "      <td>Uncapped Liability Neither party shall be liab...</td>\n",
              "      <td>0</td>\n",
              "    </tr>\n",
              "    <tr>\n",
              "      <th>16473</th>\n",
              "      <td>Non-Disparagement</td>\n",
              "      <td>0</td>\n",
              "    </tr>\n",
              "    <tr>\n",
              "      <th>16478</th>\n",
              "      <td>Revenue/Profit Sharing</td>\n",
              "      <td>0</td>\n",
              "    </tr>\n",
              "  </tbody>\n",
              "</table>\n",
              "<p>1650 rows × 2 columns</p>\n",
              "</div>"
            ],
            "text/plain": [
              "                                                    Text  Output\n",
              "0                                   Most Favored Nation        0\n",
              "26                                   Uncapped Liability        1\n",
              "27                                     Cap on Liability        1\n",
              "32                              Third Party Beneficiary        0\n",
              "38                              No-Solicit of Employees        0\n",
              "...                                                  ...     ...\n",
              "16430                                 Warranty Duration        0\n",
              "16431                                         Insurance        0\n",
              "16460  Uncapped Liability Neither party shall be liab...       0\n",
              "16473                                 Non-Disparagement        0\n",
              "16478                            Revenue/Profit Sharing        0\n",
              "\n",
              "[1650 rows x 2 columns]"
            ]
          },
          "metadata": {},
          "execution_count": 8
        }
      ],
      "source": [
        "df_test"
      ]
    },
    {
      "cell_type": "code",
      "execution_count": null,
      "metadata": {
        "id": "r9Au1tKmhfv9"
      },
      "outputs": [],
      "source": [
        "replace_list = {r\"i'm\": 'i am',\n",
        "                r\"'re\": ' are',\n",
        "                r\"let’s\": 'let us',\n",
        "                r\"'s\":  ' is',\n",
        "                r\"'ve\": ' have',\n",
        "                r\"can't\": 'can not',\n",
        "                r\"cannot\": 'can not',\n",
        "                r\"shan’t\": 'shall not',\n",
        "                r\"n't\": ' not',\n",
        "                r\"'d\": ' would',\n",
        "                r\"'ll\": ' will',\n",
        "                r\"'scuse\": 'excuse',\n",
        "                ',': ' ,',\n",
        "                '.': ' .',\n",
        "                '!': ' !',\n",
        "                '?': ' ?',\n",
        "                '\\s+': ' '}\n",
        "def clean_text(text):\n",
        "    text = text.lower()\n",
        "    for s in replace_list:\n",
        "        text = text.replace(s, replace_list[s])\n",
        "    text = ' '.join(text.split())\n",
        "    return text"
      ]
    },
    {
      "cell_type": "code",
      "execution_count": null,
      "metadata": {
        "id": "Wrbirx9Kia--"
      },
      "outputs": [],
      "source": [
        "X_train = df_train['Text'].apply(lambda p: clean_text(p))\n",
        "X_test = df_test['Text'].apply(lambda p: clean_text(p))"
      ]
    },
    {
      "cell_type": "code",
      "execution_count": null,
      "metadata": {
        "colab": {
          "base_uri": "https://localhost:8080/",
          "height": 514
        },
        "id": "CnIZrUkpi0M4",
        "outputId": "e20d80f6-b9de-43ec-cb1e-f7a04f4e53ef"
      },
      "outputs": [
        {
          "output_type": "stream",
          "name": "stdout",
          "text": [
            "max phrase len: 495\n"
          ]
        },
        {
          "output_type": "display_data",
          "data": {
            "image/png": "[encoded data removed]",
            "text/plain": [
              "<Figure size 720x576 with 1 Axes>"
            ]
          },
          "metadata": {}
        }
      ],
      "source": [
        "# Let’s look at the individual length of each phrase in the corpus.\n",
        "phrase_len = X_train.apply(lambda p: len(p.split(' ')))\n",
        "max_phrase_len = phrase_len.max()\n",
        "print('max phrase len: {0}'.format(max_phrase_len))\n",
        "plt.figure(figsize = (10, 8))\n",
        "plt.hist(phrase_len, alpha = 0.2, density = True)\n",
        "plt.xlabel('phrase len')\n",
        "plt.ylabel('probability')\n",
        "plt.grid(alpha = 0.25)"
      ]
    },
    {
      "cell_type": "code",
      "execution_count": null,
      "metadata": {
        "id": "7SnK-EmSjhBh"
      },
      "outputs": [],
      "source": [
        "y_train = df_train['Output']\n",
        "y_test = df_test['Output']"
      ]
    },
    {
      "cell_type": "code",
      "execution_count": null,
      "metadata": {
        "colab": {
          "base_uri": "https://localhost:8080/"
        },
        "id": "RzsjOgLbkW5s",
        "outputId": "ecc7a4c6-79a5-4dca-94c7-5b7da9dd7f42"
      },
      "outputs": [
        {
          "output_type": "execute_result",
          "data": {
            "text/plain": [
              "(14850,)"
            ]
          },
          "metadata": {},
          "execution_count": 66
        }
      ],
      "source": [
        "X_train.shape"
      ]
    },
    {
      "cell_type": "code",
      "execution_count": null,
      "metadata": {
        "id": "e9p92ye9jxYh"
      },
      "outputs": [],
      "source": [
        "max_words = 8192\n",
        "tokenizer = Tokenizer(\n",
        "    num_words = max_words,\n",
        "    filters = '\"#$%&()*+-/:;<=>@[\\]^_`{|}~'\n",
        ")\n",
        "tokenizer.fit_on_texts(X_train)\n",
        "X_train = tokenizer.texts_to_sequences(X_train)\n",
        "X_train = pad_sequences(X_train, maxlen = max_phrase_len)\n",
        "# y_train = to_categorical(y_train)\n",
        "\n",
        "tokenizer.fit_on_texts(X_test)\n",
        "X_test = tokenizer.texts_to_sequences(X_test)\n",
        "X_test = pad_sequences(X_test, maxlen = max_phrase_len)\n",
        "# y_test = to_categorical(y_test)\n",
        "\n",
        "y_train = np.asarray(y_train).astype('float32').reshape((-1,1))\n",
        "y_test = np.asarray(y_test).astype('float32').reshape((-1,1))"
      ]
    },
    {
      "cell_type": "code",
      "execution_count": null,
      "metadata": {
        "id": "lO0UjJCYleJJ"
      },
      "outputs": [],
      "source": [
        "batch_size = 512\n",
        "epochs = 3"
      ]
    },
    {
      "cell_type": "code",
      "execution_count": null,
      "metadata": {
        "colab": {
          "base_uri": "https://localhost:8080/"
        },
        "id": "EIYqkGNl-54s",
        "outputId": "c35f748a-9c41-4a31-8abe-0d8d392d6f79"
      },
      "outputs": [
        {
          "output_type": "stream",
          "name": "stdout",
          "text": [
            "(14850, 495)\n",
            "(14850, 1)\n",
            "(1650, 495)\n",
            "(1650, 1)\n"
          ]
        }
      ],
      "source": [
        "print(X_train.shape)\n",
        "print(y_train.shape)\n",
        "print(X_test.shape)\n",
        "print(y_test.shape)"
      ]
    },
    {
      "cell_type": "code",
      "execution_count": null,
      "metadata": {
        "id": "Ud1KX5PilhJV"
      },
      "outputs": [],
      "source": [
        "model_lstm = Sequential()\n",
        "\n",
        "# device = torch.device(\"cuda:0\")\n",
        "# model_lstm.to(device)\n",
        "\n",
        "model_lstm.add(Embedding(input_dim = max_words, output_dim = 256, input_length = max_phrase_len))\n",
        "model_lstm.add(SpatialDropout1D(0.5))\n",
        "#model_lstm.add(Bidirectional(LSTM(10, return_sequences=True), input_shape=(5, 10)))\n",
        "model_lstm.add(Bidirectional(LSTM(20,dropout=0.3))) \n",
        "# model_lstm.add(LSTM(256, dropout = 0.3, recurrent_dropout = 0.3))\n",
        "# model_lstm.add(Dense(256, activation = 'relu'))\n",
        "model_lstm.add(Dropout(0.3)) #.3\n",
        "model_lstm.add(Dense(5, activation = 'sigmoid')) #softmax sigmoid\n",
        "model_lstm.add(Flatten()) \n",
        "model_lstm.compile(\n",
        "    loss=tf.keras.losses.binary_crossentropy, # THIS MIGHT NEED CHANGING categorical_crossentropy, sparse_categorical_crossentropy\n",
        "    optimizer='Adagrad', #Adam\n",
        "    metrics=['accuracy']\n",
        ")"
      ]
    },
    {
      "cell_type": "code",
      "execution_count": null,
      "metadata": {
        "id": "LA7D55hglnUm",
        "colab": {
          "base_uri": "https://localhost:8080/"
        },
        "outputId": "25cb639b-3eb6-40f0-a852-5471c007f48b"
      },
      "outputs": [
        {
          "output_type": "stream",
          "name": "stdout",
          "text": [
            "Epoch 1/3\n",
            "27/27 [==============================] - 13s 330ms/step - loss: 0.6962 - accuracy: 0.3831 - val_loss: 0.6919 - val_accuracy: 0.6572\n",
            "Epoch 2/3\n",
            "27/27 [==============================] - 8s 296ms/step - loss: 0.6892 - accuracy: 0.3872 - val_loss: 0.6858 - val_accuracy: 0.6593\n",
            "Epoch 3/3\n",
            "27/27 [==============================] - 8s 295ms/step - loss: 0.6836 - accuracy: 0.3853 - val_loss: 0.6805 - val_accuracy: 0.6620\n"
          ]
        }
      ],
      "source": [
        "history = model_lstm.fit(\n",
        "    X_train,\n",
        "    y_train,\n",
        "    validation_split = 0.1,\n",
        "    epochs = 3,\n",
        "    batch_size = 512\n",
        ")"
      ]
    },
    {
      "cell_type": "code",
      "source": [
        "model_lstm.save('lstm_model.h5')"
      ],
      "metadata": {
        "id": "ZwHdXqsvPmaP"
      },
      "execution_count": null,
      "outputs": []
    },
    {
      "cell_type": "code",
      "source": [
        "from keras.models import load_model\n",
        "# load model from single file\n",
        "model = load_model('lstm_model.h5')\n",
        "# make predictions\n",
        "yhat = model.predict(X_train, verbose=0)\n",
        "print(yhat)"
      ],
      "metadata": {
        "colab": {
          "base_uri": "https://localhost:8080/"
        },
        "id": "1dkH_T3iPt8E",
        "outputId": "8370b504-dbff-44b4-c702-f1ad39923134"
      },
      "execution_count": null,
      "outputs": [
        {
          "output_type": "stream",
          "name": "stdout",
          "text": [
            "[[0.50496626 0.47220662 0.4771032  0.49613342 0.48784626]\n",
            " [0.50485694 0.4750873  0.47758496 0.49281025 0.48852333]\n",
            " [0.5069669  0.47857532 0.47745785 0.50030816 0.4893857 ]\n",
            " ...\n",
            " [0.50545037 0.47374734 0.46889785 0.50306135 0.4921635 ]\n",
            " [0.5033182  0.47860208 0.47719744 0.5005101  0.48912323]\n",
            " [0.50496626 0.47220662 0.4771032  0.49613342 0.48784626]]\n"
          ]
        }
      ]
    },
    {
      "cell_type": "code",
      "source": [
        "from sklearn.metrics import classification_report\n",
        "\n",
        "y_pred = model.predict(X_test, batch_size=64, verbose=1)\n",
        "y_pred_bool = np.argmax(y_pred, axis=1)\n",
        "\n",
        "print(classification_report(y_test, y_pred_bool))\n",
        "# print(y_pred.shape)\n",
        "# print(y_test.shape)"
      ],
      "metadata": {
        "colab": {
          "base_uri": "https://localhost:8080/"
        },
        "id": "-QQBaTVwP_Mh",
        "outputId": "17c20cdb-b3c1-49ee-b24a-738642d5b04f"
      },
      "execution_count": null,
      "outputs": [
        {
          "output_type": "stream",
          "name": "stdout",
          "text": [
            "26/26 [==============================] - 1s 44ms/step\n",
            "              precision    recall  f1-score   support\n",
            "\n",
            "         0.0       0.78      0.88      0.83      1276\n",
            "         1.0       0.00      0.00      0.00       374\n",
            "         3.0       0.00      0.00      0.00         0\n",
            "\n",
            "    accuracy                           0.68      1650\n",
            "   macro avg       0.26      0.29      0.28      1650\n",
            "weighted avg       0.60      0.68      0.64      1650\n",
            "\n"
          ]
        },
        {
          "output_type": "stream",
          "name": "stderr",
          "text": [
            "/usr/local/lib/python3.7/dist-packages/sklearn/metrics/_classification.py:1308: UndefinedMetricWarning: Precision and F-score are ill-defined and being set to 0.0 in labels with no predicted samples. Use `zero_division` parameter to control this behavior.\n",
            "  _warn_prf(average, modifier, msg_start, len(result))\n",
            "/usr/local/lib/python3.7/dist-packages/sklearn/metrics/_classification.py:1308: UndefinedMetricWarning: Recall and F-score are ill-defined and being set to 0.0 in labels with no true samples. Use `zero_division` parameter to control this behavior.\n",
            "  _warn_prf(average, modifier, msg_start, len(result))\n",
            "/usr/local/lib/python3.7/dist-packages/sklearn/metrics/_classification.py:1308: UndefinedMetricWarning: Precision and F-score are ill-defined and being set to 0.0 in labels with no predicted samples. Use `zero_division` parameter to control this behavior.\n",
            "  _warn_prf(average, modifier, msg_start, len(result))\n",
            "/usr/local/lib/python3.7/dist-packages/sklearn/metrics/_classification.py:1308: UndefinedMetricWarning: Recall and F-score are ill-defined and being set to 0.0 in labels with no true samples. Use `zero_division` parameter to control this behavior.\n",
            "  _warn_prf(average, modifier, msg_start, len(result))\n",
            "/usr/local/lib/python3.7/dist-packages/sklearn/metrics/_classification.py:1308: UndefinedMetricWarning: Precision and F-score are ill-defined and being set to 0.0 in labels with no predicted samples. Use `zero_division` parameter to control this behavior.\n",
            "  _warn_prf(average, modifier, msg_start, len(result))\n",
            "/usr/local/lib/python3.7/dist-packages/sklearn/metrics/_classification.py:1308: UndefinedMetricWarning: Recall and F-score are ill-defined and being set to 0.0 in labels with no true samples. Use `zero_division` parameter to control this behavior.\n",
            "  _warn_prf(average, modifier, msg_start, len(result))\n"
          ]
        }
      ]
    },
    {
      "cell_type": "code",
      "execution_count": null,
      "metadata": {
        "id": "cuaIMxUvlzJ3",
        "colab": {
          "base_uri": "https://localhost:8080/",
          "height": 294
        },
        "outputId": "0b2cab3d-37b0-444e-aac1-becc077252a9"
      },
      "outputs": [
        {
          "output_type": "display_data",
          "data": {
            "image/png": "[encoded data removed]",
            "text/plain": [
              "<Figure size 432x288 with 1 Axes>"
            ]
          },
          "metadata": {}
        }
      ],
      "source": [
        "plt.clf()\n",
        "loss = history.history['loss']\n",
        "val_loss = history.history['val_loss']\n",
        "epochs = range(1, len(loss) + 1)\n",
        "plt.plot(epochs, loss, 'g', label='Training loss')\n",
        "plt.plot(epochs, val_loss, 'y', label='Validation loss')\n",
        "plt.title('Training and validation loss')\n",
        "plt.xlabel('Epochs')\n",
        "plt.ylabel('Loss')\n",
        "plt.legend()\n",
        "plt.show()"
      ]
    },
    {
      "cell_type": "code",
      "execution_count": null,
      "metadata": {
        "id": "oDEejQTjlzxg",
        "colab": {
          "base_uri": "https://localhost:8080/",
          "height": 294
        },
        "outputId": "f90acdc0-4cd4-4241-e005-f8a54cf7de12"
      },
      "outputs": [
        {
          "output_type": "display_data",
          "data": {
            "image/png": "[encoded data removed]",
            "text/plain": [
              "<Figure size 432x288 with 1 Axes>"
            ]
          },
          "metadata": {}
        }
      ],
      "source": [
        "plt.clf()\n",
        "acc = history.history['accuracy']\n",
        "val_acc = history.history['val_accuracy']\n",
        "plt.plot(epochs, acc, 'g', label='Training acc')\n",
        "plt.plot(epochs, val_acc, 'y', label='Validation acc')\n",
        "plt.title('Training and validation accuracy')\n",
        "plt.xlabel('Epochs')\n",
        "plt.ylabel('Accuracy')\n",
        "plt.legend()\n",
        "plt.show()"
      ]
    }
  ],
  "metadata": {
    "colab": {
      "name": "CIS530_MS3.ipynb",
      "provenance": []
    },
    "kernelspec": {
      "display_name": "Python 3",
      "name": "python3"
    },
    "language_info": {
      "name": "python"
    },
    "accelerator": "GPU"
  },
  "nbformat": 4,
  "nbformat_minor": 0
}